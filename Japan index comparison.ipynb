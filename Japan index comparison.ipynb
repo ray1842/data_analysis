{
  "nbformat": 4,
  "nbformat_minor": 0,
  "metadata": {
    "colab": {
      "name": "Untitled9.ipynb",
      "provenance": [],
      "collapsed_sections": []
    },
    "kernelspec": {
      "name": "python3",
      "display_name": "Python 3"
    }
  },
  "cells": [
    {
      "cell_type": "code",
      "metadata": {
        "id": "t3YkcAu4GFYZ"
      },
      "source": [
        "import numpy as np\n",
        "import pandas as pd\n"
      ],
      "execution_count": 1,
      "outputs": []
    },
    {
      "cell_type": "code",
      "metadata": {
        "id": "MPH7WrdrdDD9"
      },
      "source": [
        "tpx_price=pd.read_csv(\"TOPIX Historical Data.csv\",decimal=\",\")\n",
        "nk400_price=pd.read_csv(\"JPX-Nikkei 400 Historical Data.csv\",decimal=\",\")\n",
        "tpx_price=tpx_price.rename(columns={\"Price\":\"TPX_price\"})\n",
        "nk400_price=nk400_price.rename(columns={\"Price\":\"NK400_price\"})\n",
        "price1=pd.Series(tpx_price[\"TPX_price\"],dtype=\"float64\")\n",
        "price2=pd.Series(nk400_price[\"NK400_price\"])\n",
        "prices=pd.concat([price1,price2],axis=1)\n",
        "prices=prices.replace(',','', regex=True)\n",
        "prices=prices.astype(float)\n",
        "correlation=prices[\"TPX_price\"].corr(prices[\"NK400_price\"])*100"
      ],
      "execution_count": 13,
      "outputs": []
    },
    {
      "cell_type": "code",
      "metadata": {
        "colab": {
          "base_uri": "https://localhost:8080/",
          "height": 419
        },
        "id": "uD8Fa6dTGb3T",
        "outputId": "4a3f35d9-2893-4b79-c786-85e3fd8b33f3"
      },
      "source": [
        "nk=pd.read_csv(\"https://www.jpx.co.jp/english/markets/indices/jpx-nikkei400/tvdivq00000031dd-att/jpx_nikkei_index_400_weight_en.csv\")\n",
        "nk_df=pd.DataFrame(nk)\n",
        "nk_df=nk_df.rename(columns={\"Issue\":\"Nk400\"})\n",
        "nk_df"
      ],
      "execution_count": 14,
      "outputs": [
        {
          "output_type": "execute_result",
          "data": {
            "text/html": [
              "<div>\n",
              "<style scoped>\n",
              "    .dataframe tbody tr th:only-of-type {\n",
              "        vertical-align: middle;\n",
              "    }\n",
              "\n",
              "    .dataframe tbody tr th {\n",
              "        vertical-align: top;\n",
              "    }\n",
              "\n",
              "    .dataframe thead th {\n",
              "        text-align: right;\n",
              "    }\n",
              "</style>\n",
              "<table border=\"1\" class=\"dataframe\">\n",
              "  <thead>\n",
              "    <tr style=\"text-align: right;\">\n",
              "      <th></th>\n",
              "      <th>Date</th>\n",
              "      <th>Nk400</th>\n",
              "      <th>Code</th>\n",
              "      <th>Sector</th>\n",
              "      <th>Component Weight (JPX-Nikkei 400)</th>\n",
              "    </tr>\n",
              "  </thead>\n",
              "  <tbody>\n",
              "    <tr>\n",
              "      <th>0</th>\n",
              "      <td>2021/03/31</td>\n",
              "      <td>NIPPON SUISAN KAISHA, LTD.</td>\n",
              "      <td>1332.0</td>\n",
              "      <td>Fishery, Agriculture and Forestry</td>\n",
              "      <td>0.0325%</td>\n",
              "    </tr>\n",
              "    <tr>\n",
              "      <th>1</th>\n",
              "      <td>2021/03/31</td>\n",
              "      <td>MARUHA NICHIRO CORP.</td>\n",
              "      <td>1333.0</td>\n",
              "      <td>Fishery, Agriculture and Forestry</td>\n",
              "      <td>0.0270%</td>\n",
              "    </tr>\n",
              "    <tr>\n",
              "      <th>2</th>\n",
              "      <td>2021/03/31</td>\n",
              "      <td>INPEX CORP.</td>\n",
              "      <td>1605.0</td>\n",
              "      <td>Mining</td>\n",
              "      <td>0.1829%</td>\n",
              "    </tr>\n",
              "    <tr>\n",
              "      <th>3</th>\n",
              "      <td>2021/03/31</td>\n",
              "      <td>HAZAMA ANDO CORP.</td>\n",
              "      <td>1719.0</td>\n",
              "      <td>Construction</td>\n",
              "      <td>0.0358%</td>\n",
              "    </tr>\n",
              "    <tr>\n",
              "      <th>4</th>\n",
              "      <td>2021/03/31</td>\n",
              "      <td>TOKYU CONSTRUCTION CO., LTD.</td>\n",
              "      <td>1720.0</td>\n",
              "      <td>Construction</td>\n",
              "      <td>0.0116%</td>\n",
              "    </tr>\n",
              "    <tr>\n",
              "      <th>...</th>\n",
              "      <td>...</td>\n",
              "      <td>...</td>\n",
              "      <td>...</td>\n",
              "      <td>...</td>\n",
              "      <td>...</td>\n",
              "    </tr>\n",
              "    <tr>\n",
              "      <th>395</th>\n",
              "      <td>2021/03/31</td>\n",
              "      <td>MISUMI GROUP INC.</td>\n",
              "      <td>9962.0</td>\n",
              "      <td>Wholesale Trade</td>\n",
              "      <td>0.1923%</td>\n",
              "    </tr>\n",
              "    <tr>\n",
              "      <th>396</th>\n",
              "      <td>2021/03/31</td>\n",
              "      <td>FAST RETAILING CO., LTD.</td>\n",
              "      <td>9983.0</td>\n",
              "      <td>Retail Trade</td>\n",
              "      <td>0.5623%</td>\n",
              "    </tr>\n",
              "    <tr>\n",
              "      <th>397</th>\n",
              "      <td>2021/03/31</td>\n",
              "      <td>SOFTBANK GROUP CORP.</td>\n",
              "      <td>9984.0</td>\n",
              "      <td>Information &amp; Communication</td>\n",
              "      <td>1.8373%</td>\n",
              "    </tr>\n",
              "    <tr>\n",
              "      <th>398</th>\n",
              "      <td>2021/03/31</td>\n",
              "      <td>SUNDRUG CO., LTD.</td>\n",
              "      <td>9989.0</td>\n",
              "      <td>Retail Trade</td>\n",
              "      <td>0.0727%</td>\n",
              "    </tr>\n",
              "    <tr>\n",
              "      <th>399</th>\n",
              "      <td>This material is a copyrightable work of Nikke...</td>\n",
              "      <td>NaN</td>\n",
              "      <td>NaN</td>\n",
              "      <td>NaN</td>\n",
              "      <td>NaN</td>\n",
              "    </tr>\n",
              "  </tbody>\n",
              "</table>\n",
              "<p>400 rows × 5 columns</p>\n",
              "</div>"
            ],
            "text/plain": [
              "                                                  Date  ... Component Weight (JPX-Nikkei 400)\n",
              "0                                           2021/03/31  ...                           0.0325%\n",
              "1                                           2021/03/31  ...                           0.0270%\n",
              "2                                           2021/03/31  ...                           0.1829%\n",
              "3                                           2021/03/31  ...                           0.0358%\n",
              "4                                           2021/03/31  ...                           0.0116%\n",
              "..                                                 ...  ...                               ...\n",
              "395                                         2021/03/31  ...                           0.1923%\n",
              "396                                         2021/03/31  ...                           0.5623%\n",
              "397                                         2021/03/31  ...                           1.8373%\n",
              "398                                         2021/03/31  ...                           0.0727%\n",
              "399  This material is a copyrightable work of Nikke...  ...                               NaN\n",
              "\n",
              "[400 rows x 5 columns]"
            ]
          },
          "metadata": {
            "tags": []
          },
          "execution_count": 14
        }
      ]
    },
    {
      "cell_type": "code",
      "metadata": {
        "colab": {
          "base_uri": "https://localhost:8080/",
          "height": 419
        },
        "id": "8loVvbbLHnMr",
        "outputId": "ea05a76e-4dcd-49af-bc22-0e207917e2dc"
      },
      "source": [
        "tpx=pd.read_excel(\"TOPIX_weight_en.xlsx\")\n",
        "tpx_df=pd.DataFrame(tpx)\n",
        "tpx_clean=tpx_df.copy(deep=False)\n",
        "tpx_clean=tpx_clean.drop([2190,2191,2192,2193,2194,2195,2196], axis=0)\n",
        "tpx_clean=tpx_clean.rename(columns={\"Issue\":\"Tpx\"})\n",
        "tpx_clean"
      ],
      "execution_count": 15,
      "outputs": [
        {
          "output_type": "execute_result",
          "data": {
            "text/html": [
              "<div>\n",
              "<style scoped>\n",
              "    .dataframe tbody tr th:only-of-type {\n",
              "        vertical-align: middle;\n",
              "    }\n",
              "\n",
              "    .dataframe tbody tr th {\n",
              "        vertical-align: top;\n",
              "    }\n",
              "\n",
              "    .dataframe thead th {\n",
              "        text-align: right;\n",
              "    }\n",
              "</style>\n",
              "<table border=\"1\" class=\"dataframe\">\n",
              "  <thead>\n",
              "    <tr style=\"text-align: right;\">\n",
              "      <th></th>\n",
              "      <th>Date</th>\n",
              "      <th>Tpx</th>\n",
              "      <th>Code</th>\n",
              "      <th>Sector</th>\n",
              "      <th>Component Weight (TOPIX)</th>\n",
              "      <th>New Index Series Code</th>\n",
              "      <th>Issue to which the liquidity factor is applied</th>\n",
              "    </tr>\n",
              "  </thead>\n",
              "  <tbody>\n",
              "    <tr>\n",
              "      <th>0</th>\n",
              "      <td>20210129</td>\n",
              "      <td>KYOKUYO CO.,LTD.</td>\n",
              "      <td>1301.0</td>\n",
              "      <td>Fishery, Agriculture and Forestry</td>\n",
              "      <td>0.000054</td>\n",
              "      <td>TOPIX Small 2</td>\n",
              "      <td>NaN</td>\n",
              "    </tr>\n",
              "    <tr>\n",
              "      <th>1</th>\n",
              "      <td>20210129</td>\n",
              "      <td>Nippon Suisan Kaisha,Ltd.</td>\n",
              "      <td>1332.0</td>\n",
              "      <td>Fishery, Agriculture and Forestry</td>\n",
              "      <td>0.000223</td>\n",
              "      <td>TOPIX Mid400</td>\n",
              "      <td>NaN</td>\n",
              "    </tr>\n",
              "    <tr>\n",
              "      <th>2</th>\n",
              "      <td>20210129</td>\n",
              "      <td>Maruha Nichiro Corporation</td>\n",
              "      <td>1333.0</td>\n",
              "      <td>Fishery, Agriculture and Forestry</td>\n",
              "      <td>0.000202</td>\n",
              "      <td>TOPIX Mid400</td>\n",
              "      <td>NaN</td>\n",
              "    </tr>\n",
              "    <tr>\n",
              "      <th>3</th>\n",
              "      <td>20210129</td>\n",
              "      <td>HOHSUI CORPORATION</td>\n",
              "      <td>1352.0</td>\n",
              "      <td>Wholesale Trade</td>\n",
              "      <td>0.000003</td>\n",
              "      <td>TOPIX Small 2</td>\n",
              "      <td>NaN</td>\n",
              "    </tr>\n",
              "    <tr>\n",
              "      <th>4</th>\n",
              "      <td>20210129</td>\n",
              "      <td>YUKIGUNI MAITAKE CO.,LTD.</td>\n",
              "      <td>1375.0</td>\n",
              "      <td>Fishery, Agriculture and Forestry</td>\n",
              "      <td>0.000060</td>\n",
              "      <td>TOPIX Small 2</td>\n",
              "      <td>○</td>\n",
              "    </tr>\n",
              "    <tr>\n",
              "      <th>...</th>\n",
              "      <td>...</td>\n",
              "      <td>...</td>\n",
              "      <td>...</td>\n",
              "      <td>...</td>\n",
              "      <td>...</td>\n",
              "      <td>...</td>\n",
              "      <td>...</td>\n",
              "    </tr>\n",
              "    <tr>\n",
              "      <th>2185</th>\n",
              "      <td>20210129</td>\n",
              "      <td>GECOSS CORPORATION</td>\n",
              "      <td>9991.0</td>\n",
              "      <td>Wholesale Trade</td>\n",
              "      <td>0.000026</td>\n",
              "      <td>TOPIX Small 2</td>\n",
              "      <td>NaN</td>\n",
              "    </tr>\n",
              "    <tr>\n",
              "      <th>2186</th>\n",
              "      <td>20210129</td>\n",
              "      <td>YAMAZAWA CO.,LTD.</td>\n",
              "      <td>9993.0</td>\n",
              "      <td>Retail Trade</td>\n",
              "      <td>0.000016</td>\n",
              "      <td>TOPIX Small 2</td>\n",
              "      <td>○</td>\n",
              "    </tr>\n",
              "    <tr>\n",
              "      <th>2187</th>\n",
              "      <td>20210129</td>\n",
              "      <td>YAMAYA CORPORATION</td>\n",
              "      <td>9994.0</td>\n",
              "      <td>Retail Trade</td>\n",
              "      <td>0.000018</td>\n",
              "      <td>TOPIX Small 2</td>\n",
              "      <td>NaN</td>\n",
              "    </tr>\n",
              "    <tr>\n",
              "      <th>2188</th>\n",
              "      <td>20210129</td>\n",
              "      <td>GLOSEL Co.,Ltd.</td>\n",
              "      <td>9995.0</td>\n",
              "      <td>Wholesale Trade</td>\n",
              "      <td>0.000021</td>\n",
              "      <td>TOPIX Small 2</td>\n",
              "      <td>NaN</td>\n",
              "    </tr>\n",
              "    <tr>\n",
              "      <th>2189</th>\n",
              "      <td>20210129</td>\n",
              "      <td>BELLUNA CO.,LTD.</td>\n",
              "      <td>9997.0</td>\n",
              "      <td>Retail Trade</td>\n",
              "      <td>0.000098</td>\n",
              "      <td>TOPIX Small 1</td>\n",
              "      <td>NaN</td>\n",
              "    </tr>\n",
              "  </tbody>\n",
              "</table>\n",
              "<p>2190 rows × 7 columns</p>\n",
              "</div>"
            ],
            "text/plain": [
              "          Date  ... Issue to which the liquidity factor is applied\n",
              "0     20210129  ...                                            NaN\n",
              "1     20210129  ...                                            NaN\n",
              "2     20210129  ...                                            NaN\n",
              "3     20210129  ...                                            NaN\n",
              "4     20210129  ...                                              ○\n",
              "...        ...  ...                                            ...\n",
              "2185  20210129  ...                                            NaN\n",
              "2186  20210129  ...                                              ○\n",
              "2187  20210129  ...                                            NaN\n",
              "2188  20210129  ...                                            NaN\n",
              "2189  20210129  ...                                            NaN\n",
              "\n",
              "[2190 rows x 7 columns]"
            ]
          },
          "metadata": {
            "tags": []
          },
          "execution_count": 15
        }
      ]
    },
    {
      "cell_type": "code",
      "metadata": {
        "colab": {
          "base_uri": "https://localhost:8080/"
        },
        "id": "5NCvPI9sKguM",
        "outputId": "7600a2b9-8a2d-4d18-e7d6-90a80a7d5af8"
      },
      "source": [
        "tpx_comp=tpx_clean[\"Tpx\"].str.upper()\n",
        "tpx_comp"
      ],
      "execution_count": 16,
      "outputs": [
        {
          "output_type": "execute_result",
          "data": {
            "text/plain": [
              "0                 KYOKUYO CO.,LTD.\n",
              "1        NIPPON SUISAN KAISHA,LTD.\n",
              "2       MARUHA NICHIRO CORPORATION\n",
              "3               HOHSUI CORPORATION\n",
              "4        YUKIGUNI MAITAKE CO.,LTD.\n",
              "                   ...            \n",
              "2185            GECOSS CORPORATION\n",
              "2186             YAMAZAWA CO.,LTD.\n",
              "2187            YAMAYA CORPORATION\n",
              "2188               GLOSEL CO.,LTD.\n",
              "2189              BELLUNA CO.,LTD.\n",
              "Name: Tpx, Length: 2190, dtype: object"
            ]
          },
          "metadata": {
            "tags": []
          },
          "execution_count": 16
        }
      ]
    },
    {
      "cell_type": "code",
      "metadata": {
        "colab": {
          "base_uri": "https://localhost:8080/"
        },
        "id": "Ec8QLD8KM4yE",
        "outputId": "d58a05b8-b045-4566-e34a-be40981e344f"
      },
      "source": [
        "nk_comp=nk_df[\"Nk400\"]\n",
        "nk_comp"
      ],
      "execution_count": 17,
      "outputs": [
        {
          "output_type": "execute_result",
          "data": {
            "text/plain": [
              "0        NIPPON SUISAN KAISHA, LTD.\n",
              "1              MARUHA NICHIRO CORP.\n",
              "2                       INPEX CORP.\n",
              "3                 HAZAMA ANDO CORP.\n",
              "4      TOKYU CONSTRUCTION CO., LTD.\n",
              "                   ...             \n",
              "395               MISUMI GROUP INC.\n",
              "396        FAST RETAILING CO., LTD.\n",
              "397            SOFTBANK GROUP CORP.\n",
              "398               SUNDRUG CO., LTD.\n",
              "399                             NaN\n",
              "Name: Nk400, Length: 400, dtype: object"
            ]
          },
          "metadata": {
            "tags": []
          },
          "execution_count": 17
        }
      ]
    },
    {
      "cell_type": "code",
      "metadata": {
        "colab": {
          "base_uri": "https://localhost:8080/",
          "height": 419
        },
        "id": "FJ4QjjWqPDf8",
        "outputId": "86f5fdcd-35df-4a1b-e4fe-5eb745d8fb9e"
      },
      "source": [
        "comparison=pd.concat([tpx_comp,nk_comp],ignore_index=True,axis=1)\n",
        "comparison=comparison.astype({0:\"str\",1:\"str\"})\n",
        "comparison"
      ],
      "execution_count": 18,
      "outputs": [
        {
          "output_type": "execute_result",
          "data": {
            "text/html": [
              "<div>\n",
              "<style scoped>\n",
              "    .dataframe tbody tr th:only-of-type {\n",
              "        vertical-align: middle;\n",
              "    }\n",
              "\n",
              "    .dataframe tbody tr th {\n",
              "        vertical-align: top;\n",
              "    }\n",
              "\n",
              "    .dataframe thead th {\n",
              "        text-align: right;\n",
              "    }\n",
              "</style>\n",
              "<table border=\"1\" class=\"dataframe\">\n",
              "  <thead>\n",
              "    <tr style=\"text-align: right;\">\n",
              "      <th></th>\n",
              "      <th>0</th>\n",
              "      <th>1</th>\n",
              "    </tr>\n",
              "  </thead>\n",
              "  <tbody>\n",
              "    <tr>\n",
              "      <th>0</th>\n",
              "      <td>KYOKUYO CO.,LTD.</td>\n",
              "      <td>NIPPON SUISAN KAISHA, LTD.</td>\n",
              "    </tr>\n",
              "    <tr>\n",
              "      <th>1</th>\n",
              "      <td>NIPPON SUISAN KAISHA,LTD.</td>\n",
              "      <td>MARUHA NICHIRO CORP.</td>\n",
              "    </tr>\n",
              "    <tr>\n",
              "      <th>2</th>\n",
              "      <td>MARUHA NICHIRO CORPORATION</td>\n",
              "      <td>INPEX CORP.</td>\n",
              "    </tr>\n",
              "    <tr>\n",
              "      <th>3</th>\n",
              "      <td>HOHSUI CORPORATION</td>\n",
              "      <td>HAZAMA ANDO CORP.</td>\n",
              "    </tr>\n",
              "    <tr>\n",
              "      <th>4</th>\n",
              "      <td>YUKIGUNI MAITAKE CO.,LTD.</td>\n",
              "      <td>TOKYU CONSTRUCTION CO., LTD.</td>\n",
              "    </tr>\n",
              "    <tr>\n",
              "      <th>...</th>\n",
              "      <td>...</td>\n",
              "      <td>...</td>\n",
              "    </tr>\n",
              "    <tr>\n",
              "      <th>2185</th>\n",
              "      <td>GECOSS CORPORATION</td>\n",
              "      <td>nan</td>\n",
              "    </tr>\n",
              "    <tr>\n",
              "      <th>2186</th>\n",
              "      <td>YAMAZAWA CO.,LTD.</td>\n",
              "      <td>nan</td>\n",
              "    </tr>\n",
              "    <tr>\n",
              "      <th>2187</th>\n",
              "      <td>YAMAYA CORPORATION</td>\n",
              "      <td>nan</td>\n",
              "    </tr>\n",
              "    <tr>\n",
              "      <th>2188</th>\n",
              "      <td>GLOSEL CO.,LTD.</td>\n",
              "      <td>nan</td>\n",
              "    </tr>\n",
              "    <tr>\n",
              "      <th>2189</th>\n",
              "      <td>BELLUNA CO.,LTD.</td>\n",
              "      <td>nan</td>\n",
              "    </tr>\n",
              "  </tbody>\n",
              "</table>\n",
              "<p>2190 rows × 2 columns</p>\n",
              "</div>"
            ],
            "text/plain": [
              "                               0                             1\n",
              "0               KYOKUYO CO.,LTD.    NIPPON SUISAN KAISHA, LTD.\n",
              "1      NIPPON SUISAN KAISHA,LTD.          MARUHA NICHIRO CORP.\n",
              "2     MARUHA NICHIRO CORPORATION                   INPEX CORP.\n",
              "3             HOHSUI CORPORATION             HAZAMA ANDO CORP.\n",
              "4      YUKIGUNI MAITAKE CO.,LTD.  TOKYU CONSTRUCTION CO., LTD.\n",
              "...                          ...                           ...\n",
              "2185          GECOSS CORPORATION                           nan\n",
              "2186           YAMAZAWA CO.,LTD.                           nan\n",
              "2187          YAMAYA CORPORATION                           nan\n",
              "2188             GLOSEL CO.,LTD.                           nan\n",
              "2189            BELLUNA CO.,LTD.                           nan\n",
              "\n",
              "[2190 rows x 2 columns]"
            ]
          },
          "metadata": {
            "tags": []
          },
          "execution_count": 18
        }
      ]
    },
    {
      "cell_type": "code",
      "metadata": {
        "colab": {
          "base_uri": "https://localhost:8080/",
          "height": 35
        },
        "id": "RbEgJw7TUCp0",
        "outputId": "511a79bb-9ef2-441d-b6a2-49d6352a7dfe"
      },
      "source": [
        "intersect=np.intersect1d(comparison[0],comparison[1])\n",
        "str(len(intersect))+\" companies are shared by the Nikkei 400 and TOPIX, with a \"+str(correlation)+\"% correlation as a result.\"\n"
      ],
      "execution_count": 19,
      "outputs": [
        {
          "output_type": "execute_result",
          "data": {
            "application/vnd.google.colaboratory.intrinsic+json": {
              "type": "string"
            },
            "text/plain": [
              "'44 companies are shred by the Nikkei 400 and TOPIX, with a 99.67910788074963% correlation as a result.'"
            ]
          },
          "metadata": {
            "tags": []
          },
          "execution_count": 19
        }
      ]
    }
  ]
}